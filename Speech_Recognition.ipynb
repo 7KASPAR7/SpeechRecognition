{
 "cells": [
  {
   "cell_type": "code",
   "execution_count": 41,
   "metadata": {},
   "outputs": [],
   "source": [
    "import pygame\n",
    "import speech_recognition as sr\n",
    "import random\n",
    "import threading \n"
   ]
  },
  {
   "cell_type": "code",
   "execution_count": 42,
   "metadata": {},
   "outputs": [],
   "source": [
    "colors = {(255, 255, 255) : \"White\", (255, 0, 0) : \"Red\", (0, 255, 0) : \"Green\",  (0, 0, 255) : \"Blue\", (255,165,0) : \"Orange\", (255, 255, 0) : \"Yellow\", (128, 0, 128) : \"Purple\", (255,192,203) : \"Pink\", (139, 69, 19) : \"Brown\",  (128, 128, 128) : \"Gray\"}\n",
    "WIDTH, HEIGHT = 800, 600\n",
    "BACKGROUND_COLOR = (0, 0, 0)\n",
    "SQUARE_SIZE = 50\n",
    "FPS = 10\n",
    "\n",
    "WHITE = (255, 255, 255)\n",
    "BLACK = (0, 0, 0)\n",
    "RED = (255, 0, 0)\n",
    "GREEN = (0, 255, 0)\n",
    "BLUE = (0, 0, 255)\n",
    "\n",
    "current_recognized_text = \"None\""
   ]
  },
  {
   "cell_type": "code",
   "execution_count": 43,
   "metadata": {},
   "outputs": [],
   "source": [
    "def Recognize_speech():   \n",
    "    recognizer = sr.Recognizer()\n",
    "\n",
    "    global is_listening\n",
    "    is_listening = True\n",
    "    while is_listening:\n",
    "        with sr.Microphone() as source:\n",
    "            audio = recognizer.listen(source, timeout=5, phrase_time_limit=5)\n",
    "\n",
    "            global current_recognized_text\n",
    "            try:\n",
    "                text = recognizer.recognize_google(audio, language='eng-ENG')\n",
    "                print(\"Вы сказали: \" + text)\n",
    "                current_recognized_text = text\n",
    "\n",
    "            except sr.UnknownValueError:\n",
    "                current_recognized_text = \"None\"\n",
    "            except sr.RequestError as e:\n",
    "                print(f\"Ошибка сервиса распознавания: {e}\")\n",
    "                current_recognized_text = \"None\"\n",
    "            except sr.WaitTimeoutError as e:\n",
    "                print(f\"Ошибка сервиса распознавания: {e}\")\n",
    "                current_recognized_text = \"None\"\n",
    "\n",
    "    print(\"Finish listening\")\n"
   ]
  },
  {
   "cell_type": "code",
   "execution_count": 44,
   "metadata": {},
   "outputs": [],
   "source": [
    "def think_color(previous_color = None):\n",
    "    # print(list(colors.values()))\n",
    "    current_colors = list(colors.keys())\n",
    "    if (previous_color in current_colors):\n",
    "        current_colors.remove(previous_color)\n",
    "    square_color = random.choice(current_colors)\n",
    "\n",
    "    square_color_name = colors[square_color]\n",
    "    print(\"think color name: \",square_color_name)\n",
    "\n",
    "    return square_color, square_color_name"
   ]
  },
  {
   "cell_type": "code",
   "execution_count": 45,
   "metadata": {},
   "outputs": [
    {
     "name": "stdout",
     "output_type": "stream",
     "text": [
      "think color name:  Yellow\n",
      "Вы сказали: yellow\n",
      "Right\n",
      "think color name:  Green\n",
      "Вы сказали: green\n",
      "Right\n",
      "think color name:  Orange\n",
      "Вы сказали: Orange\n",
      "Right\n",
      "think color name:  Yellow\n",
      "Вы сказали: yellow\n",
      "Right\n",
      "think color name:  Purple\n",
      "Finish listening\n"
     ]
    }
   ],
   "source": [
    "pygame.init()\n",
    "\n",
    "screen = pygame.display.set_mode((WIDTH, HEIGHT))\n",
    "pygame.display.set_caption(\"Speech Recognition Game\")\n",
    "\n",
    "square_x = WIDTH // 2 - SQUARE_SIZE // 2\n",
    "square_y = HEIGHT // 2 - SQUARE_SIZE // 2\n",
    "square_speed = 5\n",
    "is_running = True\n",
    "\n",
    "square_color, square_color_name = think_color()\n",
    "\n",
    "font = pygame.font.SysFont('Comic Sans MS', 30)\n",
    "say_color_surface = font.render('Say name of color in english', False, WHITE)\n",
    "\n",
    "clock = pygame.time.Clock()\n",
    "\n",
    "bg = pygame.image.load(\"bg.jpg\")\n",
    "baloon = pygame.image.load(\"baloon.png\")\n",
    "baloon.fill(square_color, special_flags=pygame.BLEND_RGB_MULT)\n",
    "\n",
    "microphone_thread = threading.Thread(target=Recognize_speech)\n",
    "microphone_thread.start()\n",
    "\n",
    "while is_running:\n",
    "    for event in pygame.event.get():\n",
    "        if event.type == pygame.QUIT:\n",
    "            is_running = False\n",
    "            global is_listening\n",
    "            is_listening = False\n",
    "            break\n",
    "\n",
    "    said_text_surface = font.render('You said: ' + ('Can not recongnize' if (current_recognized_text == \"None\") else current_recognized_text), False, WHITE)\n",
    "\n",
    "    if (current_recognized_text.lower() == square_color_name.lower()):\n",
    "        print(\"Right\")\n",
    "        square_color, square_color_name = think_color(square_color)\n",
    "        baloon = pygame.image.load(\"baloon.png\")\n",
    "        baloon.fill(square_color, special_flags=pygame.BLEND_RGB_MULT)\n",
    "\n",
    "    screen.blit(bg, (-200, -100))\n",
    "    screen.blit(say_color_surface, (200, 500))\n",
    "    screen.blit(said_text_surface, (200, 550))\n",
    "\n",
    "    screen.blit(baloon, (300, 70))\n",
    "\n",
    "    pygame.display.flip()\n",
    "\n",
    "    # Установка FPS\n",
    "    clock.tick(FPS)\n",
    "\n",
    "if (microphone_thread.is_alive()):\n",
    "    microphone_thread.join()\n",
    "\n",
    "pygame.quit()"
   ]
  }
 ],
 "metadata": {
  "kernelspec": {
   "display_name": "Python 3",
   "language": "python",
   "name": "python3"
  },
  "language_info": {
   "codemirror_mode": {
    "name": "ipython",
    "version": 3
   },
   "file_extension": ".py",
   "mimetype": "text/x-python",
   "name": "python",
   "nbconvert_exporter": "python",
   "pygments_lexer": "ipython3",
   "version": "3.10.1"
  }
 },
 "nbformat": 4,
 "nbformat_minor": 2
}
